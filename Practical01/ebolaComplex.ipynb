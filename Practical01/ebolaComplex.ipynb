{
  "cells": [
    {
      "cell_type": "markdown",
      "source": [
        "# Ebola With Hospitalization Model"
      ],
      "metadata": {
        "nteract": {
          "transient": {
            "deleting": false
          }
        }
      }
    },
    {
      "cell_type": "markdown",
      "source": [
        "Importing libraries: [numpy](https://numpy.org/), [scipy](https://www.scipy.org/), [matplotlib](https://matplotlib.org/)"
      ],
      "metadata": {
        "nteract": {
          "transient": {
            "deleting": false
          }
        }
      }
    },
    {
      "cell_type": "code",
      "source": [
        "import aux\n",
        "import numpy as np\n",
        "import matplotlib.pyplot as plt\n",
        "from scipy.integrate import odeint"
      ],
      "outputs": [],
      "execution_count": 2,
      "metadata": {
        "collapsed": false,
        "jupyter": {
          "source_hidden": false,
          "outputs_hidden": false
        },
        "nteract": {
          "transient": {
            "deleting": false
          }
        }
      }
    },
    {
      "cell_type": "markdown",
      "source": [
        "Model's equations:\n",
        "\n",
        "$\\lambda(t) = \\frac{1}{N} * (\\beta_i * I(t) + \\beta_d * D(t) + \\beta_h * H(t))$\n",
        "\n",
        "$\\dot{S(t)} = -\\lambda * S(t)$\n",
        "\n",
        "$\\dot{E(t)} = \\lambda * S(t) - f * E(t)$\n",
        "\n",
        "$\\dot{I(t)} = f * E(t) - (m_i + r_i + h) * I(t)$\n",
        "\n",
        "$\\dot{H(t)} = h * I(t) - (m_h + r_h) * H(t)$\n",
        "\n",
        "$\\dot{R(t)} = r_i * I(t) + r_h * H(t)$\n",
        "\n",
        "$\\dot{D(t)} = m_i * I(t) + m_h * H(t) - \\mu * D(t)$\n",
        "\n",
        "$\\dot{B(t)} = \\mu * D(t)$\n",
        "\n",
        "With variables:\n",
        "\n",
        "* $S$: Susceptibles\n",
        "* $E$: Exposed\n",
        "* $I$: Infective\n",
        "* $R$: Recovered\n",
        "* $D$: Dead\n",
        "* $B$: Buried\n",
        "* $N$: Total population\n",
        "* $\\beta_i$: Infectious people contact rate\n",
        "* $\\beta_h$: Hospitalized people contact rate\n",
        "* $\\beta_d$: Dead people contact rate\n",
        "* $f$: Rate of progression from latent to infectious \n",
        "* $r$: Recovery rate\n",
        "* $m_i$: Infective mortality rate\n",
        "* $m_h$: Hospitalized mortality rate\n",
        "* $\\mu$: Burying rate\n",
        "\n",
        "And defining the model in code:"
      ],
      "metadata": {
        "nteract": {
          "transient": {
            "deleting": false
          }
        }
      }
    },
    {
      "cell_type": "code",
      "source": [
        "def dEbolaComplex(y, t, N, betaI, betaD, betaH, f, ri, mi, mh, hi, rh, mu):\n",
        "    S, E, I, R, H, D, B = y\n",
        "    dSdt = -(betaI * I / N + betaH * H/N + betaD * D/N) * S\n",
        "    dEdt = (betaI * I / N + betaH * H/N + betaD * D/N)  * S - f * E\n",
        "    dIdt = f * E - (mi + ri + hi) * I\n",
        "    dRdt = ri * I + rh * H\n",
        "    dHdt = hi * I - (mh + rh) * H\n",
        "    dDdt = mh * H + mi * I - mu * D\n",
        "    dBdt = mu * D\n",
        "    return dSdt, dEdt, dIdt, dRdt, dHdt, dDdt, dBdt"
      ],
      "outputs": [],
      "execution_count": 7,
      "metadata": {
        "collapsed": false,
        "jupyter": {
          "source_hidden": false,
          "outputs_hidden": false
        },
        "nteract": {
          "transient": {
            "deleting": false
          }
        }
      }
    },
    {
      "cell_type": "markdown",
      "source": [
        "Setting the input parameters for the model:"
      ],
      "metadata": {
        "nteract": {
          "transient": {
            "deleting": false
          }
        }
      }
    },
    {
      "cell_type": "code",
      "source": [
        "(N, tmax) = (1000, 365)\n",
        "(betaI, betaD, betaH) = (0.3, 1, 0.5)\n",
        "(f, ri, mi, mh, hi, rh, mu) = (1/6, 1/10, 1/7.5, 1/15, 1/2, 1/2, 1)\n",
        "(eInit, iInit, rInit, hInit, dInit, bInit) = (0, 1, 0, 0, 0, 0)"
      ],
      "outputs": [],
      "execution_count": 8,
      "metadata": {
        "collapsed": false,
        "jupyter": {
          "source_hidden": false,
          "outputs_hidden": false
        },
        "nteract": {
          "transient": {
            "deleting": false
          }
        }
      }
    },
    {
      "cell_type": "markdown",
      "source": [
        "Calculating internal variables and running the model"
      ],
      "metadata": {
        "nteract": {
          "transient": {
            "deleting": false
          }
        }
      }
    },
    {
      "cell_type": "code",
      "source": [
        "# Initial population\n",
        "sInit = N - (eInit + iInit + rInit + hInit + dInit + bInit)\n",
        "t = np.linspace(0, tmax, tmax)\n",
        "# Initial states vector\n",
        "y0 = (sInit, eInit, iInit, rInit, hInit, dInit, bInit)\n",
        "# Run model\n",
        "ret = odeint(dEbolaComplex, y0, t, args=(N, betaI, betaD, betaH, f, ri, mi, mh, hi, rh, mu))\n",
        "(S, E, I, R, H, D, B) = ret.T"
      ],
      "outputs": [],
      "execution_count": 9,
      "metadata": {
        "collapsed": false,
        "jupyter": {
          "source_hidden": false,
          "outputs_hidden": false
        },
        "nteract": {
          "transient": {
            "deleting": false
          }
        }
      }
    },
    {
      "cell_type": "markdown",
      "source": [
        "Plotting:"
      ],
      "metadata": {
        "nteract": {
          "transient": {
            "deleting": false
          }
        }
      }
    },
    {
      "cell_type": "code",
      "source": [
        "# Defining triplets: (series, color, label)\n",
        "triplets = (\n",
        "    (S, '#02146b', 'S'), (E, '#ffb428', 'E'), (I, '#b4e830', 'I'), \n",
        "    (R, '#e21e7b', 'R'), (H, '#444444', 'H'), (B, '#888888', 'B'),\n",
        "    (D, '#12eaea', 'D')\n",
        ")\n",
        "# Plotting\n",
        "(fig, ax) = aux.plotEpiDynamics(triplets, t, tmax, N)"
      ],
      "outputs": [
        {
          "output_type": "display_data",
          "data": {
            "text/plain": [
              "<Figure size 432x288 with 1 Axes>"
            ],
            "image/png": "[encoded data removed]"
          },
          "metadata": {}
        }
      ],
      "execution_count": 10,
      "metadata": {
        "collapsed": false,
        "jupyter": {
          "source_hidden": false,
          "outputs_hidden": false
        },
        "nteract": {
          "transient": {
            "deleting": false
          }
        }
      }
    }
  ],
  "metadata": {
    "kernel_info": {
      "name": "monet"
    },
    "language_info": {
      "name": "python",
      "version": "3.7.3",
      "mimetype": "text/x-python",
      "codemirror_mode": {
        "name": "ipython",
        "version": 3
      },
      "pygments_lexer": "ipython3",
      "nbconvert_exporter": "python",
      "file_extension": ".py"
    },
    "kernelspec": {
      "argv": [
        "/Users/sanchez.hmsc/anaconda3/envs/MoNeT/bin/python",
        "-m",
        "ipykernel_launcher",
        "-f",
        "{connection_file}"
      ],
      "display_name": "MoNeT",
      "language": "python",
      "name": "monet"
    },
    "nteract": {
      "version": "0.21.0"
    }
  },
  "nbformat": 4,
  "nbformat_minor": 0
}