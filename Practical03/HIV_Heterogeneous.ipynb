{
  "cells": [
    {
      "cell_type": "markdown",
      "source": [
        "# HIV Heterogeneous"
      ],
      "metadata": {
        "nteract": {
          "transient": {
            "deleting": false
          }
        }
      }
    },
    {
      "cell_type": "markdown",
      "source": [
        "$\\lambda(t) = c * \\beta *\\frac{I(t)}{S(t) + I(t)}$\n",
        "\n",
        "$\\dot{S(t)} = -\\lambda * S(t) + \\gamma * I(t) - m * I(t)$\n",
        "\n",
        "$\\dot{I(t)} = \\gamma * I(t) - (\\mu + m) * I(t)$\n",
        "\n",
        "\n",
        "With variables:\n",
        "\n",
        "* $S$: Susceptibles\n",
        "* $I$: Infective\n",
        "* $A$: AIDS\n",
        "* $\\beta$: Transmission probability per partnership\n",
        "* $r$: Recovery rate\n",
        "* $c$: Partner change rate\n",
        "* $\\gamma$: 1/duration of infectiousness\n",
        "* $\\mu$: 1/duration of AIDS\n",
        "* $m$: background death rate\n",
        "* $\\alpha$: population growth rate"
      ],
      "metadata": {
        "nteract": {
          "transient": {
            "deleting": false
          }
        }
      }
    },
    {
      "cell_type": "code",
      "source": [
        "import aux\n",
        "import model\n",
        "import warnings\n",
        "import numpy as np\n",
        "import matplotlib.pyplot as plt\n",
        "from scipy.integrate import odeint\n",
        "warnings.filterwarnings(\"ignore\", category=DeprecationWarning)\n",
        "plt.rcParams['figure.figsize'] = [12, 5]"
      ],
      "outputs": [],
      "execution_count": 5,
      "metadata": {
        "collapsed": false,
        "jupyter": {
          "source_hidden": false,
          "outputs_hidden": false
        },
        "nteract": {
          "transient": {
            "deleting": false
          }
        }
      }
    },
    {
      "cell_type": "code",
      "source": [
        "(N, Inf0, tmax) = (10000, 1, 100 * 12)\n",
        "(cH, cL) = (8/12, 0.2/12)\n",
        "(alpha, beta, newH) = (0.025/12, .05, 0.15)\n",
        "(gam, mu, m) = (1/(9*12), 1/(1*12), 1/(35*12))\n",
        "newL = 1-newH\n",
        "# Run\n",
        "(SH, SL, IH, IL, AH, AL, DH, DL) = (\n",
        "        newH*N - Inf0,  N-(newH*N), Inf0, 0, 0, 0, 0, 0\n",
        "    )\n",
        "\n",
        "t = np.linspace(0, tmax, tmax * 10)\n",
        "y0 = (SH, SL, IH, IL, AH, AL, DH, DL)\n",
        "ret = odeint(\n",
        "        model.dHIVHeterogeneous, y0, t,\n",
        "        args=(N, cH, cL, newH, newL, alpha, m, beta, gam, mu)\n",
        "    )\n",
        "(SH, SL, IH, IL, AH, AL, DH, DL) = ret.T\n",
        "# Calculate Prevalence\n",
        "PREV = (IH+IL+AH+AL)/(SH+IH+AH+SL+IL+AL)\n",
        "PREV_H = (IH+AH)/(SH+IH+AH)\n",
        "PREV_L = (IL+AL)/(SL+IL+AL)"
      ],
      "outputs": [],
      "execution_count": 7,
      "metadata": {
        "collapsed": false,
        "jupyter": {
          "source_hidden": false,
          "outputs_hidden": false
        },
        "nteract": {
          "transient": {
            "deleting": false
          }
        }
      }
    },
    {
      "cell_type": "markdown",
      "source": [
        "# Plot Population"
      ],
      "metadata": {
        "nteract": {
          "transient": {
            "deleting": false
          }
        }
      }
    },
    {
      "cell_type": "code",
      "source": [
        "# Plot SIA ####################################################################\n",
        "tp = (\n",
        "        (PREV,      '#02146b', 'Prevalence'),\n",
        "        (PREV_H,    '#b4e830', 'Prevalence high'),\n",
        "        (PREV_L,    '#e21e7b', 'Prevalence IL')\n",
        "    )\n",
        "(fig, ax) = aux.plotEpiDynamics(tp, t/12, tmax/12, 1, ymax=.3)\n",
        "ax.set_xticks(np.arange(0, tmax/12, 25))\n",
        "ax.set_yticks(np.arange(0, 1, .1))\n",
        "ax.set_ylim(0, 1)\n",
        "plt.grid(b=True, which='major', lw=.2, alpha=.5,\n",
        "         color='#666666', linestyle='--')"
      ],
      "outputs": [
        {
          "output_type": "display_data",
          "data": {
            "text/plain": [
              "<Figure size 864x360 with 1 Axes>"
            ],
            "image/png": "[encoded data removed]"
          },
          "metadata": {}
        }
      ],
      "execution_count": 8,
      "metadata": {
        "collapsed": false,
        "jupyter": {
          "source_hidden": false,
          "outputs_hidden": false
        },
        "nteract": {
          "transient": {
            "deleting": false
          }
        }
      }
    },
    {
      "cell_type": "code",
      "source": [],
      "outputs": [],
      "execution_count": null,
      "metadata": {
        "collapsed": false,
        "jupyter": {
          "source_hidden": false,
          "outputs_hidden": false
        },
        "nteract": {
          "transient": {
            "deleting": false
          }
        }
      }
    }
  ],
  "metadata": {
    "kernel_info": {
      "name": "monet"
    },
    "language_info": {
      "name": "python",
      "version": "3.7.3",
      "mimetype": "text/x-python",
      "codemirror_mode": {
        "name": "ipython",
        "version": 3
      },
      "pygments_lexer": "ipython3",
      "nbconvert_exporter": "python",
      "file_extension": ".py"
    },
    "kernelspec": {
      "argv": [
        "/Users/sanchez.hmsc/miniconda3/envs/MoNeT/bin/python",
        "-m",
        "ipykernel_launcher",
        "-f",
        "{connection_file}"
      ],
      "display_name": "MoNeT",
      "language": "python",
      "name": "monet"
    },
    "nteract": {
      "version": "0.21.0"
    }
  },
  "nbformat": 4,
  "nbformat_minor": 0
}