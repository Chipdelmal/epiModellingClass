{
  "cells": [
    {
      "cell_type": "markdown",
      "source": [
        "# Gonorrhea Heterogeneous"
      ],
      "metadata": {
        "nteract": {
          "transient": {
            "deleting": false
          }
        }
      }
    },
    {
      "cell_type": "markdown",
      "source": [
        "$\\dot{S_L(t)} = -\\lambda_L * S_L(t) + r * I_L(t)$\n",
        "\n",
        "$\\dot{I_L(t)} = \\lambda_L * S_L(t) - r * I_L(t)$\n",
        "\n",
        "$\\dot{S_H(t)} = -\\lambda_H * S_H(t) + r * I_H(t)$\n",
        "\n",
        "$\\dot{I_H(t)} = \\lambda_H * S_H(t) - r * I_H(t)$\n",
        "\n",
        "$\\lambda_L(t) = c_L * \\beta_p * p(t)$\n",
        "\n",
        "$\\lambda_H(t) = c_H * \\beta_p * p(t)$\n",
        "\n",
        "$c_H = \\frac{c_{mean} - c_L * n_L}{n_H}$\n",
        "\n",
        "$g_H = \\frac{c_H * n_H}{c_L * n_L + c_H * n_H}$\n",
        "\n",
        "$g_L = 1 - g_H$\n",
        "\n",
        "$p(t) = g_h * I_H(t) + g_L * I_L(t)$\n",
        "\n",
        "With variables:\n",
        "\n",
        "* $S$: Susceptibles\n",
        "* $I$: Infective\n",
        "* $\\beta$: Transmission probability per partnership\n",
        "* $r$: Recovery rate\n",
        "* $c$: Partner change rate\n",
        "* $p$: Probability of selecting an infected partner"
      ],
      "metadata": {
        "nteract": {
          "transient": {
            "deleting": false
          }
        }
      }
    },
    {
      "cell_type": "markdown",
      "source": [
        "## Model's Code"
      ],
      "metadata": {
        "nteract": {
          "transient": {
            "deleting": false
          }
        }
      }
    },
    {
      "cell_type": "code",
      "source": [
        "import aux\n",
        "import model\n",
        "import warnings\n",
        "import numpy as np\n",
        "import matplotlib.pyplot as plt\n",
        "from scipy.integrate import odeint\n",
        "warnings.filterwarnings(\"ignore\",category=DeprecationWarning)\n",
        "plt.rcParams['figure.figsize'] = [12, 5]"
      ],
      "outputs": [],
      "execution_count": 1,
      "metadata": {
        "collapsed": false,
        "jupyter": {
          "source_hidden": false,
          "outputs_hidden": false
        },
        "nteract": {
          "transient": {
            "deleting": false
          }
        }
      }
    },
    {
      "cell_type": "code",
      "source": [
        "# User inputs ############################################################\n",
        "(N, tmax) = (200000000, 15 * 12)\n",
        "(nH, cM, cL) = (.02, 2/12, 1.4 / 12)\n",
        "(beta, partRate, rec) = (.75, 1.5, 1 / 2)\n",
        "(iInit) = (1)\n",
        "# Internals ##############################################################\n",
        "nL = 1 - nH\n",
        "cH = (cM - cL * nL) / nH\n",
        "gH = cH * nH / (cH * nH + cL * nL)\n",
        "gL = 1 - gH\n",
        "(sInit) = (N - iInit)\n",
        "t = np.linspace(0, tmax, tmax * 10)\n",
        "y0 = (N - N * nH, N * nH - iInit, 0, iInit)\n",
        "# Run ####################################################################\n",
        "ret = odeint(model.dGonorrheaHeterogeneous, y0, t, args=(N, beta, cL, cM, nH, nL, rec))\n",
        "(Sl, Sh, Il, Ih) = ret.T / N\n",
        "# Plot ###################################################################\n",
        "tp = ((Sl, '#02146b', 'Sl'), (Sh, '#ffb428', 'Sh'), (Il, '#b4e830', 'Il'), (Ih, '#e21e7b', 'Ih'))\n",
        "(fig, ax) = aux.plotEpiDynamicsPop(tp, t/12, tmax/12, 1)\n",
        "ax.set_xticks(np.arange(0, tmax/12, 1))\n",
        "ax.set_yticks(np.arange(0, 1, .1))\n",
        "ax.set_ylim(0, 1)\n",
        "ax.set_xlim(0, 3)\n",
        "plt.grid(b=True, which='major', lw=.2, alpha=.5, color='#666666', linestyle='--')\n",
        "# Save Figure ############################################################\n",
        "plt.savefig(\n",
        "    './img/Gonorrhea_Het.png',  \n",
        "    dpi=500, pad_inches=.01, bbox_inches='tight'\n",
        ")"
      ],
      "outputs": [
        {
          "output_type": "stream",
          "name": "stderr",
          "text": [
            "/Users/sanchez.hmsc/miniconda3/envs/epimodelling/lib/python3.7/site-packages/scipy/integrate/odepack.py:248: ODEintWarning: Excess work done on this call (perhaps wrong Dfun type). Run with full_output = 1 to get quantitative information.\n",
            "  warnings.warn(warning_msg, ODEintWarning)\n"
          ]
        },
        {
          "output_type": "display_data",
          "data": {
            "text/plain": [
              "<Figure size 864x360 with 1 Axes>"
            ],
            "image/png": "[encoded data removed]"
          },
          "metadata": {}
        }
      ],
      "execution_count": 15,
      "metadata": {
        "collapsed": false,
        "jupyter": {
          "source_hidden": false,
          "outputs_hidden": false
        },
        "nteract": {
          "transient": {
            "deleting": false
          }
        }
      }
    },
    {
      "cell_type": "code",
      "source": [],
      "outputs": [],
      "execution_count": null,
      "metadata": {
        "collapsed": false,
        "jupyter": {
          "source_hidden": false,
          "outputs_hidden": false
        },
        "nteract": {
          "transient": {
            "deleting": false
          }
        }
      }
    }
  ],
  "metadata": {
    "kernel_info": {
      "name": "python3"
    },
    "language_info": {
      "name": "python",
      "version": "3.7.6",
      "mimetype": "text/x-python",
      "codemirror_mode": {
        "name": "ipython",
        "version": 3
      },
      "pygments_lexer": "ipython3",
      "nbconvert_exporter": "python",
      "file_extension": ".py"
    },
    "kernelspec": {
      "argv": [
        "/anaconda3/envs/OSMNX/bin/python",
        "-m",
        "ipykernel_launcher",
        "-f",
        "{connection_file}"
      ],
      "display_name": "Python 3",
      "language": "python",
      "name": "python3"
    },
    "nteract": {
      "version": "0.21.0"
    }
  },
  "nbformat": 4,
  "nbformat_minor": 0
}