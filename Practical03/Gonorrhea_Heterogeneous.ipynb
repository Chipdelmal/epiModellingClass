{
  "cells": [
    {
      "cell_type": "markdown",
      "source": [
        "# Gonorrhea Heterogeneous"
      ],
      "metadata": {
        "nteract": {
          "transient": {
            "deleting": false
          }
        }
      }
    },
    {
      "cell_type": "markdown",
      "source": [
        "$\\dot{S_L(t)} = -\\lambda_L * S_L(t) + r * I_L(t)$\n",
        "\n",
        "$\\dot{I_L(t)} = \\lambda_L * S_L(t) - r * I_L(t)$\n",
        "\n",
        "$\\dot{S_H(t)} = -\\lambda_H * S_H(t) + r * I_H(t)$\n",
        "\n",
        "$\\dot{I_H(t)} = \\lambda_H * S_H(t) - r * I_H(t)$\n",
        "\n",
        "$\\lambda_L(t) = c_L * \\beta_p * p(t)$\n",
        "\n",
        "$\\lambda_H(t) = c_H * \\beta_p * p(t)$\n",
        "\n",
        "$c_H = \\frac{c_{mean} - c_L * n_L}{n_H}$\n",
        "\n",
        "$g_H = \\frac{c_H * n_H}{c_L * n_L + c_H * n_H}$\n",
        "\n",
        "$g_L = 1 - g_H$\n",
        "\n",
        "$p(t) = g_h * I_H(t) + g_L * I_L(t)$\n",
        "\n",
        "With variables:\n",
        "\n",
        "* $S$: Susceptibles\n",
        "* $I$: Infective\n",
        "* $\\beta$: Transmission probability per partnership\n",
        "* $r$: Recovery rate\n",
        "* $c$: Partner change rate\n",
        "* $p$: Probability of selecting an infected partner"
      ],
      "metadata": {
        "nteract": {
          "transient": {
            "deleting": false
          }
        }
      }
    },
    {
      "cell_type": "code",
      "source": [
        "import aux\n",
        "import model\n",
        "import warnings\n",
        "import numpy as np\n",
        "import matplotlib.pyplot as plt\n",
        "from scipy.integrate import odeint\n",
        "warnings.filterwarnings(\"ignore\",category=DeprecationWarning)\n",
        "plt.rcParams['figure.figsize'] = [12, 5]"
      ],
      "outputs": [],
      "execution_count": 3,
      "metadata": {
        "collapsed": false,
        "jupyter": {
          "source_hidden": false,
          "outputs_hidden": false
        },
        "nteract": {
          "transient": {
            "deleting": false
          }
        }
      }
    },
    {
      "cell_type": "markdown",
      "source": [
        "## Model's Code"
      ],
      "metadata": {
        "nteract": {
          "transient": {
            "deleting": false
          }
        }
      }
    },
    {
      "cell_type": "code",
      "source": [
        "#################################################################\n",
        "# User inputs \n",
        "#################################################################\n",
        "(N, tmax)  = (200000000, 15 * 12)\n",
        "(beta, rec) = (3/4, 1/2)\n",
        "(nH, cMean, cL)  = (0.02, 2/12, 1.4/12)\n",
        "Inf0 = 1\n",
        "#################################################################\n",
        "# Internals \n",
        "#################################################################\n",
        "nL = 1 - nH\n",
        "cH = (cMean - cL * nL)/nH\n",
        "gH = (cH * nH) /(cH * nH+ cL * nL)\n",
        "gL = 1 - gH\n",
        "(SH0, IH0, SL0, IL0) = (N * nH - Inf0, Inf0, N - N * nH, 0)\n",
        "y0 = (SH0, IH0, SL0, IL0)\n",
        "t = np.linspace(0, tmax, tmax * 10)\n",
        "#################################################################\n",
        "# Run \n",
        "#################################################################\n",
        "ret = odeint(\n",
        "        model.dGonorrheaHeterogeneous, y0, t,\n",
        "        args=(N, beta, cL, cMean, nH, nL, rec, gH, gL, cH)\n",
        "    )\n",
        "(SH, IH, SL, IL) = ret.T\n",
        "#################################################################\n",
        "# Plot \n",
        "#################################################################\n",
        "(prev, prevH, prevL) = ((IH + IL) / N, IH / (N * nH), IL / (N * nL))\n",
        "tp = (\n",
        "        (SH, '#02146b', 'SH'), (IH, '#ffb428', 'IH'),\n",
        "        (SL, '#b4e830', 'SL'), (IL, '#e21e7b', 'IL')\n",
        "    )\n",
        "(fig, ax) = aux.plotEpiDynamicsPop(tp, t/12, tmax/12, 1)\n",
        "# ax.set_xticks(np.arange(0, tmax/12, 1))\n",
        "# ax.set_yticks(np.arange(0, 1, .1))\n",
        "ax.set_ylim(0, np.amax(SH))\n",
        "ax.set_xlim(0, tmax / 12)\n",
        "plt.grid(\n",
        "        b=True, which='major', lw=.2, alpha=.5,\n",
        "        color='#666666', linestyle='--'\n",
        "    )"
      ],
      "outputs": [
        {
          "output_type": "display_data",
          "data": {
            "text/plain": [
              "<Figure size 432x288 with 1 Axes>"
            ],
            "image/png": "[encoded data removed]"
          },
          "metadata": {}
        }
      ],
      "execution_count": 8,
      "metadata": {
        "collapsed": false,
        "jupyter": {
          "source_hidden": false,
          "outputs_hidden": false
        },
        "nteract": {
          "transient": {
            "deleting": false
          }
        }
      }
    },
    {
      "cell_type": "code",
      "source": [
        "#################################################################\n",
        "# Plot Prevalence\n",
        "#################################################################\n",
        "tp = (\n",
        "        (prev, '#ffb428', 'Prevalence'),\n",
        "        (prevH, '#02146b', 'Prevalence IH'),\n",
        "        (prevL, '#e21e7b', 'Prevalence IL')\n",
        "    )\n",
        "(fig, ax) = aux.plotEpiDynamicsPop(tp, t/12, tmax/12, 1)\n",
        "# ax.set_xticks(np.arange(0, tmax/12, 1))\n",
        "# ax.set_yticks(np.arange(0, 1, .1))\n",
        "ax.set_ylim(0, .3)\n",
        "ax.set_xlim(0, tmax / 12)\n",
        "plt.grid(\n",
        "        b=True, which='major', lw=.2, alpha=.5,\n",
        "        color='#666666', linestyle='--'\n",
        "    )"
      ],
      "outputs": [
        {
          "output_type": "display_data",
          "data": {
            "text/plain": [
              "<Figure size 432x288 with 1 Axes>"
            ],
            "image/png": "[encoded data removed]"
          },
          "metadata": {}
        }
      ],
      "execution_count": 9,
      "metadata": {
        "collapsed": false,
        "jupyter": {
          "source_hidden": false,
          "outputs_hidden": false
        },
        "nteract": {
          "transient": {
            "deleting": false
          }
        }
      }
    },
    {
      "cell_type": "code",
      "source": [],
      "outputs": [],
      "execution_count": null,
      "metadata": {
        "collapsed": false,
        "jupyter": {
          "source_hidden": false,
          "outputs_hidden": false
        },
        "nteract": {
          "transient": {
            "deleting": false
          }
        }
      }
    }
  ],
  "metadata": {
    "kernel_info": {
      "name": "python3"
    },
    "language_info": {
      "name": "python",
      "version": "3.7.3",
      "mimetype": "text/x-python",
      "codemirror_mode": {
        "name": "ipython",
        "version": 3
      },
      "pygments_lexer": "ipython3",
      "nbconvert_exporter": "python",
      "file_extension": ".py"
    },
    "kernelspec": {
      "argv": [
        "/anaconda3/envs/OSMNX/bin/python",
        "-m",
        "ipykernel_launcher",
        "-f",
        "{connection_file}"
      ],
      "display_name": "Python 3",
      "language": "python",
      "name": "python3"
    },
    "nteract": {
      "version": "0.21.0"
    }
  },
  "nbformat": 4,
  "nbformat_minor": 0
}