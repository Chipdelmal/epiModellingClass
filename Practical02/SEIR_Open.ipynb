{
  "cells": [
    {
      "cell_type": "markdown",
      "source": [
        "# Open SEIR Model"
      ],
      "metadata": {
        "nteract": {
          "transient": {
            "deleting": false
          }
        }
      }
    },
    {
      "cell_type": "markdown",
      "source": [
        "Importing libraries: [numpy](https://numpy.org/), [scipy](https://www.scipy.org/), [matplotlib](https://matplotlib.org/)"
      ],
      "metadata": {
        "nteract": {
          "transient": {
            "deleting": false
          }
        }
      }
    },
    {
      "cell_type": "code",
      "source": [
        "import aux\n",
        "import numpy as np\n",
        "import matplotlib.pyplot as plt\n",
        "from scipy.integrate import odeint"
      ],
      "outputs": [],
      "execution_count": 2,
      "metadata": {
        "collapsed": false,
        "jupyter": {
          "source_hidden": false,
          "outputs_hidden": false
        },
        "nteract": {
          "transient": {
            "deleting": false
          }
        }
      }
    },
    {
      "cell_type": "markdown",
      "source": [
        "Model's equations:\n",
        "\n",
        "$\\lambda(t) = \\frac{\\beta_i}{N} * I(t)$\n",
        "\n",
        "$\\dot{S(t)} = m * N - (\\lambda * S(t) + m * S(t))$\n",
        "\n",
        "$\\dot{E(t)} = \\lambda * S(t) - (f * E(t) + m * E(t))$\n",
        "\n",
        "$\\dot{I(t)} = f * E(t) - (r * I(t) + m * I(t))$\n",
        "\n",
        "$\\dot{R(t)} = r * I(t) - (m * R(t))$\n",
        "\n",
        "With variables:\n",
        "\n",
        "* $S$: Susceptibles\n",
        "* $E$: Exposed\n",
        "* $I$: Infective\n",
        "* $R$: Recovered\n",
        "* $N$: Total population\n",
        "* $f$: Rate of progression from latent to infectious \n",
        "* $m$: Death/Birth rate\n",
        "* $\\beta$: Infectious people contact rate\n",
        "* $r$: Recovery rate\n",
        "\n",
        "Converted into code:"
      ],
      "metadata": {
        "nteract": {
          "transient": {
            "deleting": false
          }
        }
      }
    },
    {
      "cell_type": "code",
      "source": [
        "def dSEIR_Open(y, t, N, beta, f, r, m):\n",
        "    S, E, I, R = y\n",
        "    dSdt = m * N -beta * S * I / N - m * S\n",
        "    dEdt = beta * S * I / N - f * E - m * E\n",
        "    dIdt = f * E - r * I - m * I\n",
        "    dRdt = r * I - m * R\n",
        "    return dSdt, dEdt, dIdt, dRdt"
      ],
      "outputs": [],
      "execution_count": 3,
      "metadata": {
        "collapsed": false,
        "jupyter": {
          "source_hidden": false,
          "outputs_hidden": false
        },
        "nteract": {
          "transient": {
            "deleting": false
          }
        }
      }
    },
    {
      "cell_type": "markdown",
      "source": [
        "Defining initial parameters for the model and simulation:\n",
        "* **N**: Total population\n",
        "* **tmax**: Simulated time (days)\n",
        "* **eInit, iInit, rInit**: Initial exposed, infected and recovered populations\n",
        "* **R0**: Basic reproductive number\n",
        "* **lP**: Latent period\n",
        "* **iP**: Infectious period"
      ],
      "metadata": {
        "nteract": {
          "transient": {
            "deleting": false
          }
        }
      }
    },
    {
      "cell_type": "code",
      "source": [
        "(N, tmax) = (1000, 365)\n",
        "(R0, lP, iP, lE) = (3.25, 8, 7, 70)\n",
        "(iInit, eInit, rInit) = (1, 0, 0)"
      ],
      "outputs": [],
      "execution_count": 4,
      "metadata": {
        "collapsed": false,
        "jupyter": {
          "source_hidden": false,
          "outputs_hidden": false
        },
        "nteract": {
          "transient": {
            "deleting": false
          }
        }
      }
    },
    {
      "cell_type": "markdown",
      "source": [
        "Calculating internal variables and running the system:"
      ],
      "metadata": {
        "nteract": {
          "transient": {
            "deleting": false
          }
        }
      }
    },
    {
      "cell_type": "code",
      "source": [
        "(f, r, m) = (1/lP, 1/iP, 1/(lE * 365))\n",
        "sInit = N - (eInit + iInit + rInit)\n",
        "beta = R0 * (r + m)\n",
        "y0 = (sInit, iInit, eInit, rInit)\n",
        "t = np.linspace(0, tmax, tmax)\n",
        "ret = odeint(dSEIR_Open, y0, t, args=(N, beta, f, r, m))\n",
        "S, E, I, R = ret.T"
      ],
      "outputs": [],
      "execution_count": 5,
      "metadata": {
        "collapsed": false,
        "jupyter": {
          "source_hidden": false,
          "outputs_hidden": false
        },
        "nteract": {
          "transient": {
            "deleting": false
          }
        }
      }
    },
    {
      "cell_type": "markdown",
      "source": [
        "Plotting"
      ],
      "metadata": {
        "nteract": {
          "transient": {
            "deleting": false
          }
        }
      }
    },
    {
      "cell_type": "code",
      "source": [
        "# Defining triplets: (series, color, label)\n",
        "triplets = (\n",
        "    (S, '#02146b', 'S'), (E, '#ffb428', 'E'), \n",
        "    (I, '#b4e830', 'I'), (R, '#e21e7b', 'R')\n",
        ")\n",
        "# Plotting\n",
        "(fig, ax) = aux.plotEpiDynamics(triplets, t, tmax, N)"
      ],
      "outputs": [
        {
          "output_type": "display_data",
          "data": {
            "text/plain": [
              "<Figure size 432x288 with 1 Axes>"
            ],
            "image/png": "[encoded data removed]"
          },
          "metadata": {}
        }
      ],
      "execution_count": 6,
      "metadata": {
        "collapsed": false,
        "jupyter": {
          "source_hidden": false,
          "outputs_hidden": false
        },
        "nteract": {
          "transient": {
            "deleting": false
          }
        }
      }
    },
    {
      "cell_type": "code",
      "source": [],
      "outputs": [],
      "execution_count": null,
      "metadata": {
        "collapsed": false,
        "jupyter": {
          "source_hidden": false,
          "outputs_hidden": false
        },
        "nteract": {
          "transient": {
            "deleting": false
          }
        }
      }
    }
  ],
  "metadata": {
    "kernel_info": {
      "name": "monet"
    },
    "language_info": {
      "name": "python",
      "version": "3.7.3",
      "mimetype": "text/x-python",
      "codemirror_mode": {
        "name": "ipython",
        "version": 3
      },
      "pygments_lexer": "ipython3",
      "nbconvert_exporter": "python",
      "file_extension": ".py"
    },
    "kernelspec": {
      "argv": [
        "/Users/sanchez.hmsc/miniconda3/envs/MoNeT/bin/python",
        "-m",
        "ipykernel_launcher",
        "-f",
        "{connection_file}"
      ],
      "display_name": "MoNeT",
      "language": "python",
      "name": "monet"
    },
    "nteract": {
      "version": "0.21.0"
    }
  },
  "nbformat": 4,
  "nbformat_minor": 0
}