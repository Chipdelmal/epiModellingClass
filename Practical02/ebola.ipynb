{
  "cells": [
    {
      "cell_type": "markdown",
      "source": [
        "# Ebola Model"
      ],
      "metadata": {
        "nteract": {
          "transient": {
            "deleting": false
          }
        }
      }
    },
    {
      "cell_type": "markdown",
      "source": [
        "Importing libraries: [numpy](https://numpy.org/), [scipy](https://www.scipy.org/), [matplotlib](https://matplotlib.org/)"
      ],
      "metadata": {
        "nteract": {
          "transient": {
            "deleting": false
          }
        }
      }
    },
    {
      "cell_type": "code",
      "source": [
        "import numpy as np\n",
        "import matplotlib.pyplot as plt\n",
        "from scipy.integrate import odeint"
      ],
      "outputs": [],
      "execution_count": 2,
      "metadata": {
        "collapsed": false,
        "jupyter": {
          "source_hidden": false,
          "outputs_hidden": false
        },
        "nteract": {
          "transient": {
            "deleting": false
          }
        }
      }
    },
    {
      "cell_type": "markdown",
      "source": [
        "Defining the model's equations:\n",
        "\n",
        "$\\lambda(t) = \\frac{1}{N} * (\\beta_i * I(t) + \\beta_d * D(t))$\n",
        "\n",
        "$\\dot{S(t)} = -\\lambda * S(t)$\n",
        "\n",
        "$\\dot{E(t)} = \\lambda * S(t) - f * E(t)$\n",
        "\n",
        "$\\dot{I(t)} = f * E(t) - (m + r) * I(t)$\n",
        "\n",
        "$\\dot{R(t)} = r * I(t)$\n",
        "\n",
        "$\\dot{D(t)} = m * I(t) - \\mu * D(t)$\n",
        "\n",
        "$\\dot{B(t)} = \\mu * D(t)$\n",
        "\n",
        "With variables:\n",
        "\n",
        "* $S$: Susceptibles\n",
        "* $E$: Exposed\n",
        "* $I$: Infective\n",
        "* $R$: Recovered\n",
        "* $D$: Dead\n",
        "* $B$: Buried\n",
        "* $N$: Total population\n",
        "* $\\beta$: Contact rate\n",
        "* $r$: Recovery rate\n",
        "* $m$: Mortality rate\n",
        "* $\\mu$: Burying rate"
      ],
      "metadata": {
        "nteract": {
          "transient": {
            "deleting": false
          }
        }
      }
    },
    {
      "cell_type": "code",
      "source": [
        "def dEbola(y, t, N, betaI, betaH, f, m, r, mu):\n",
        "    S, E, I, R, D, B = y\n",
        "    dSdt = -(betaI * I / N + betaH * D/N) * S\n",
        "    dEdt = (betaI * I / N + betaH * D/N) * S - f * E\n",
        "    dIdt = f * E - (m + r) * I\n",
        "    dRdt = r * I\n",
        "    dDdt = m * I - mu * D\n",
        "    dBdt = mu * D\n",
        "    return dSdt, dEdt, dIdt, dRdt, dDdt, dBdt"
      ],
      "outputs": [],
      "execution_count": 4,
      "metadata": {
        "collapsed": false,
        "jupyter": {
          "source_hidden": false,
          "outputs_hidden": false
        },
        "nteract": {
          "transient": {
            "deleting": false
          }
        }
      }
    },
    {
      "cell_type": "code",
      "source": [
        "(N, tmax) = (1000, 365)\n",
        "(betaI, betaH) = (0.3, 1)\n",
        "(f, r, m, mu) = (1/6, 1/10, 1/7.5, 1)"
      ],
      "outputs": [],
      "execution_count": 6,
      "metadata": {
        "collapsed": false,
        "jupyter": {
          "source_hidden": false,
          "outputs_hidden": false
        },
        "nteract": {
          "transient": {
            "deleting": false
          }
        }
      }
    },
    {
      "cell_type": "code",
      "source": [
        "(eInit, iInit, rInit, dInit, bInit) = (0, 1, 0, 0, 0)\n",
        "sInit = N - (eInit + iInit + rInit + dInit + bInit)"
      ],
      "outputs": [],
      "execution_count": 10,
      "metadata": {
        "collapsed": false,
        "jupyter": {
          "source_hidden": false,
          "outputs_hidden": false
        },
        "nteract": {
          "transient": {
            "deleting": false
          }
        }
      }
    },
    {
      "cell_type": "code",
      "source": [
        "t = np.linspace(0, tmax, tmax)\n",
        "y0 = (sInit, eInit, iInit, rInit, dInit, bInit)\n",
        "ret = odeint(dEbola, y0, t, args=(N, betaI, betaH, f, m, r, mu))\n",
        "(S, E, I, R, D, B) = ret.T"
      ],
      "outputs": [],
      "execution_count": 12,
      "metadata": {
        "collapsed": false,
        "jupyter": {
          "source_hidden": false,
          "outputs_hidden": false
        },
        "nteract": {
          "transient": {
            "deleting": false
          }
        }
      }
    },
    {
      "cell_type": "code",
      "source": [
        "fig = plt.figure(facecolor='w')\n",
        "ax = fig.add_subplot(111, axisbelow=True)\n",
        "ax.plot(t, S/N, '#02146b', alpha=0.5, lw=2, label='Susceptible')\n",
        "ax.plot(t, E/N, '#ffb428', alpha=0.5, lw=2, label='Exposed')\n",
        "ax.plot(t, I/N, '#b4e830', alpha=0.5, lw=2, label='Infected')\n",
        "ax.plot(t, R/N, '#e21e7b', alpha=0.5, lw=2, label='Recovered')\n",
        "ax.plot(t, B/N, '#000000', alpha=0.5, lw=2, label='Buried')\n",
        "ax.plot(t, D/N, '#12eaea', alpha=0.5, lw=2, label='Dead')\n",
        "ax.set_xlabel('Time /days')\n",
        "ax.set_ylabel('Number (1000s)')\n",
        "ax.set_ylim(0, 1)\n",
        "ax.yaxis.set_tick_params(length=0)\n",
        "ax.xaxis.set_tick_params(length=0)\n",
        "ax.grid(b=True, which='major', c='w', lw=2, ls='-')\n",
        "legend = ax.legend()\n",
        "legend.get_frame().set_alpha(0.5)\n",
        "plt.show()"
      ],
      "outputs": [
        {
          "output_type": "display_data",
          "data": {
            "text/plain": [
              "<Figure size 432x288 with 1 Axes>"
            ],
            "image/png": "[encoded data removed]"
          },
          "metadata": {}
        }
      ],
      "execution_count": 17,
      "metadata": {
        "collapsed": false,
        "jupyter": {
          "source_hidden": false,
          "outputs_hidden": false
        },
        "nteract": {
          "transient": {
            "deleting": false
          }
        }
      }
    },
    {
      "cell_type": "code",
      "source": [],
      "outputs": [],
      "execution_count": null,
      "metadata": {
        "collapsed": false,
        "jupyter": {
          "source_hidden": false,
          "outputs_hidden": false
        },
        "nteract": {
          "transient": {
            "deleting": false
          }
        }
      }
    }
  ],
  "metadata": {
    "kernel_info": {
      "name": "monet"
    },
    "language_info": {
      "name": "python",
      "version": "3.6.6",
      "mimetype": "text/x-python",
      "codemirror_mode": {
        "name": "ipython",
        "version": 3
      },
      "pygments_lexer": "ipython3",
      "nbconvert_exporter": "python",
      "file_extension": ".py"
    },
    "kernelspec": {
      "argv": [
        "/Users/sanchez.hmsc/anaconda3/envs/MoNeT/bin/python",
        "-m",
        "ipykernel_launcher",
        "-f",
        "{connection_file}"
      ],
      "display_name": "MoNeT",
      "language": "python",
      "name": "monet"
    },
    "nteract": {
      "version": "0.21.0"
    }
  },
  "nbformat": 4,
  "nbformat_minor": 0
}